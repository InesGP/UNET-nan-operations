{
 "cells": [
  {
   "cell_type": "markdown",
   "id": "63710d2f-c043-4629-9add-7f94d62eeb29",
   "metadata": {},
   "source": [
    "sub-0025248 \\\n",
    "Coordinates: 135, 127, 86 \\\n",
    "sub-0025011 \\\n",
    "Coordinates: 135, 161, 103"
   ]
  },
  {
   "cell_type": "code",
   "execution_count": 7,
   "id": "71b501a6-e822-45a2-8ad0-949d3a14770c",
   "metadata": {
    "scrolled": true
   },
   "outputs": [
    {
     "name": "stdout",
     "output_type": "stream",
     "text": [
      "908 457\n",
      "Combined image saved to /home/ines/Documents/Thesis/NaN_Implementation/diffseg/nanpool/diffseg_0025011_thresh05.pdf\n",
      "908 457\n",
      "Combined image saved to /home/ines/Documents/Thesis/NaN_Implementation/diffseg/nanpool/diffseg_0025248_thresh1.pdf\n"
     ]
    }
   ],
   "source": [
    "from PIL import Image\n",
    "\n",
    "def crop_center(image, new_width, new_height):\n",
    "    \"\"\" Crop the image to the center with the specified dimensions \"\"\"\n",
    "    width, height = image.size\n",
    "    left = (width - new_width) // 2\n",
    "    top = (height - new_height) // 2\n",
    "    right = (width + new_width) // 2\n",
    "    bottom = (height + new_height) // 2\n",
    "    return image.crop((left, top, right, bottom))\n",
    "\n",
    "def combine_images(image1_path, image2_path, image3_path, output_path):\n",
    "    # Open images\n",
    "    image1 = Image.open(image1_path)\n",
    "    image2 = Image.open(image2_path)\n",
    "    image3 = Image.open(image3_path)\n",
    "    \n",
    "    # Ensure all images have the same size\n",
    "    width, height = image1.size\n",
    "    print(width, height)\n",
    "    \n",
    "    # Choose a target size for the cropped images (adjust as needed)\n",
    "    target_width = 320 #min(width, height)\n",
    "    target_height = 340 #target_width\n",
    "    \n",
    "    # Crop images to center\n",
    "    cropped_image1 = crop_center(image1, target_width, target_height)\n",
    "    cropped_image2 = crop_center(image2, target_width, target_height)\n",
    "    cropped_image3 = crop_center(image3, target_width, target_height)\n",
    "    \n",
    "    # Create a new image to combine them horizontally\n",
    "    combined_width = 3 * target_width  # Three images side by side\n",
    "    combined_height = target_height\n",
    "    combined_image = Image.new('RGB', (combined_width, combined_height))\n",
    "    \n",
    "    # Paste cropped images side by side\n",
    "    combined_image.paste(cropped_image1, (0, 0))\n",
    "    combined_image.paste(cropped_image2, (target_width, 0))\n",
    "    combined_image.paste(cropped_image3, (2 * target_width, 0))\n",
    "    \n",
    "    # Save the combined image\n",
    "    combined_image.save(output_path)\n",
    "    print(f\"Combined image saved to {output_path}\")\n",
    "\n",
    "# Example usage:\n",
    "\n",
    "# for sub in ['0025531', '0003002', '0025011', '0025248', '0025350']:\n",
    "for sub in ['0025011', '0025248']:\n",
    "    \n",
    "    # image1_path = f'/home/ines/Documents/Thesis/NaN_Implementation/diffseg/threshold_0.5/{sub}_coronal.png'\n",
    "    # image2_path = f'/home/ines/Documents/Thesis/NaN_Implementation/diffseg/threshold_0.5/{sub}_axial.png'\n",
    "    # image3_path = f'/home/ines/Documents/Thesis/NaN_Implementation/diffseg/threshold_0.5/{sub}_sagittal.png'\n",
    "    # output_path = f'/home/ines/Documents/Thesis/NaN_Implementation/diffseg/threshold_0.5/diffseg_{sub}.pdf'\n",
    "\n",
    "    if sub == '0025011':\n",
    "        image1_path = f'/home/ines/Documents/Thesis/NaN_Implementation/diffseg/nanpool/{sub}_thresh05_coronal.png'\n",
    "        image2_path = f'/home/ines/Documents/Thesis/NaN_Implementation/diffseg/nanpool/{sub}_thresh05_axial.png'\n",
    "        image3_path = f'/home/ines/Documents/Thesis/NaN_Implementation/diffseg/nanpool/{sub}_thresh05_sagittal.png'\n",
    "        output_path = f'/home/ines/Documents/Thesis/NaN_Implementation/diffseg/nanpool/diffseg_{sub}_thresh05.pdf'\n",
    "    elif sub == '0025248':\n",
    "        image1_path = f'/home/ines/Documents/Thesis/NaN_Implementation/diffseg/nanpool/{sub}_thresh1_coronal.png'\n",
    "        image2_path = f'/home/ines/Documents/Thesis/NaN_Implementation/diffseg/nanpool/{sub}_thresh1_axial.png'\n",
    "        image3_path = f'/home/ines/Documents/Thesis/NaN_Implementation/diffseg/nanpool/{sub}_thresh1_sagittal.png'\n",
    "        output_path = f'/home/ines/Documents/Thesis/NaN_Implementation/diffseg/nanpool/diffseg_{sub}_thresh1.pdf'\n",
    "\n",
    "    \n",
    "    combine_images(image1_path, image2_path, image3_path, output_path)\n"
   ]
  },
  {
   "cell_type": "code",
   "execution_count": 33,
   "id": "d98b4006-e9d2-4d21-bd73-c87f70e78527",
   "metadata": {},
   "outputs": [
    {
     "name": "stdout",
     "output_type": "stream",
     "text": [
      "908 458\n",
      "Combined image saved to /home/ines/Documents/Thesis/NaN_Implementation/cerebellum.pdf\n"
     ]
    }
   ],
   "source": [
    "from PIL import Image\n",
    "\n",
    "def crop_center(image, new_width, new_height):\n",
    "    \"\"\" Crop the image to the center with the specified dimensions \"\"\"\n",
    "    # width, height = image.size\n",
    "    # left = (width - new_width) // 2\n",
    "    # print(height, new_height)\n",
    "    # top = (height - new_height) // 1\n",
    "    # right = (width + new_width) // 2\n",
    "    # bottom = (height + new_height) // 3\n",
    "    # print(left, top, right, bottom)\n",
    "    return image.crop((304, 150, 604, 400))\n",
    "\n",
    "def combine_images(image1_path, image2_path, output_path):\n",
    "    # Open images\n",
    "    image1 = Image.open(image1_path)\n",
    "    image2 = Image.open(image2_path)\n",
    "    \n",
    "    # Ensure all images have the same size\n",
    "    width, height = image1.size\n",
    "    print(width, height)\n",
    "    \n",
    "    # Choose a target size for the cropped images (adjust as needed)\n",
    "    target_width = 300 #min(width, height)\n",
    "    target_height = 300 #target_width\n",
    "    \n",
    "    # Crop images to center\n",
    "    cropped_image1 = crop_center(image1, target_width, target_height)\n",
    "    cropped_image2 = crop_center(image2, target_width, target_height)\n",
    "    \n",
    "    # Create a new image to combine them horizontally\n",
    "    combined_width = 2 * target_width  # Three images side by side\n",
    "    combined_height = target_height\n",
    "    combined_image = Image.new('RGB', (combined_width, combined_height))\n",
    "    \n",
    "    # Paste cropped images side by side\n",
    "    combined_image.paste(cropped_image1, (0, 0))\n",
    "    combined_image.paste(cropped_image2, (target_width, 0))\n",
    "    \n",
    "    # Save the combined image\n",
    "    combined_image.save(output_path)\n",
    "    print(f\"Combined image saved to {output_path}\")\n",
    "\n",
    "# Example usage:\n",
    "\n",
    "# for sub in ['0025531', '0003002', '0025011', '0025248', '0025350']:\n",
    "for sub in ['0025011']:\n",
    "    image1_path = f'/home/ines/Documents/Thesis/NaN_Implementation/cerebellum_nodiff.png'\n",
    "    image2_path = f'/home/ines/Documents/Thesis/NaN_Implementation/cerebellum_diff.png'\n",
    "    output_path = f'/home/ines/Documents/Thesis/NaN_Implementation/cerebellum.pdf'\n",
    "    \n",
    "    combine_images(image1_path, image2_path, output_path)\n"
   ]
  },
  {
   "cell_type": "code",
   "execution_count": 32,
   "id": "77a6a235-7986-4656-9d4c-712df02d3760",
   "metadata": {},
   "outputs": [
    {
     "data": {
      "image/jpeg": "[encoded data removed]",
      "image/png": "[encoded data removed]",
      "text/plain": [
       "<PIL.Image.Image image mode=RGB size=300x250>"
      ]
     },
     "execution_count": 32,
     "metadata": {},
     "output_type": "execute_result"
    }
   ],
   "source": [
    "image1 = Image.open(f'/home/ines/Documents/Thesis/NaN_Implementation/cerebellum_nodiff.png')\n",
    "\n",
    "image1.crop((304, 150, 604, 400))\n"
   ]
  },
  {
   "cell_type": "code",
   "execution_count": null,
   "id": "7bde72c2-86ee-4906-a955-e74106094bfe",
   "metadata": {},
   "outputs": [],
   "source": []
  }
 ],
 "metadata": {
  "kernelspec": {
   "display_name": "Python 3 (ipykernel)",
   "language": "python",
   "name": "python3"
  },
  "language_info": {
   "codemirror_mode": {
    "name": "ipython",
    "version": 3
   },
   "file_extension": ".py",
   "mimetype": "text/x-python",
   "name": "python",
   "nbconvert_exporter": "python",
   "pygments_lexer": "ipython3",
   "version": "3.12.3"
  }
 },
 "nbformat": 4,
 "nbformat_minor": 5
}
